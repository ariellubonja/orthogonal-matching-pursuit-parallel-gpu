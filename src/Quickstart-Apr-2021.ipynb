{
  "cells": [
    {
      "cell_type": "code",
      "execution_count": 1,
      "metadata": {
        "colab": {
          "base_uri": "https://localhost:8080/"
        },
        "id": "L_rPkGOQ2x81",
        "outputId": "b75b5b96-4e0f-47e9-c7ab-08640e070326"
      },
      "outputs": [
        {
          "name": "stdout",
          "output_type": "stream",
          "text": [
            "env: CUDA_LAUNCH_BLOCKING=0\n"
          ]
        }
      ],
      "source": [
        "\"\"\"To profile the running time line-by-line, CUDA needs to run synchronously. Set this to 1 to do that\"\"\"\n",
        "%env CUDA_LAUNCH_BLOCKING=0"
      ]
    },
    {
      "cell_type": "markdown",
      "metadata": {
        "id": "RXH6y_rftSeK"
      },
      "source": [
        "#### Install Optional Dependencies for Line Profiling"
      ]
    },
    {
      "cell_type": "code",
      "execution_count": null,
      "metadata": {
        "id": "YpoUbaRkYaf9"
      },
      "outputs": [],
      "source": [
        "# # %%capture\n",
        "# \"\"\"For profiling how long each line takes, both on CPU and GPU (needs synchronization)\"\"\"\n",
        "# !pip install line_profiler\n",
        "# %load_ext line_profiler\n",
        "# !git clone https://github.com/NVIDIA/PyProf.git\n",
        "# !pip install ./PyProf"
      ]
    },
    {
      "cell_type": "markdown",
      "metadata": {
        "id": "q4QoFYEQtFBZ"
      },
      "source": [
        "## Load Cython and Our Novel Efficient functions\n",
        "\n",
        "\n",
        "This cell contains the code we've implemented. You should be able to call each function directly, or alternatively, see our example calls below\n",
        "\n",
        "Cython allows us to call lower level c-code instead of using Python. It can be a surprisingly big speedup!"
      ]
    },
    {
      "cell_type": "code",
      "execution_count": 1,
      "metadata": {
        "id": "iQ3o3hbGZE1h"
      },
      "outputs": [],
      "source": [
        "\"\"\"This cell contains the code we've implemented. You should be able to call each function directly, or alternatively, see our example calls below\"\"\"\n",
        "\n",
        "from main import run_benchmarks\n",
        "\n",
        "n_components, n_features = 100, 100\n",
        "n_nonzero_coefs = 17\n",
        "n_samples = 50"
      ]
    },
    {
      "cell_type": "markdown",
      "metadata": {},
      "source": [
        "#### Optional: Line Profiling"
      ]
    },
    {
      "cell_type": "code",
      "execution_count": 11,
      "metadata": {
        "id": "SpHMClZOjQUZ"
      },
      "outputs": [],
      "source": [
        "\"\"\"Use this cell to profile line-by-line the algorithms you want to run\"\"\"\n",
        "\n",
        "from sklearn.datasets import make_sparse_coded_signal\n",
        "\n",
        "# m = 64\n",
        "# n_components, n_features = m*8, m\n",
        "# n_nonzero_coefs = m//4\n",
        "# n_samples = 200000\n",
        "\n",
        "\n",
        "# 20000 x 8000 x 1600 x 10 is just within memory reach on GPU\n",
        "n_components, n_features = 20000, 8000\n",
        "n_nonzero_coefs = 1600\n",
        "# Keep this above 1 not to mess with dimensions of y\n",
        "n_samples = 3\n",
        "\n",
        "# Out of memory on CPU if bigger than this\n",
        "# n_components, n_features = 20000, 8000\n",
        "# n_nonzero_coefs = 1000\n",
        "# n_samples = 10\n",
        "\n",
        "y, X, w = make_sparse_coded_signal(\n",
        "    n_samples=n_samples,\n",
        "    n_components=n_components,\n",
        "    n_features=n_features,\n",
        "    n_nonzero_coefs=n_nonzero_coefs,\n",
        "    random_state=0)\n",
        "\n",
        "y = y.T\n",
        "\n",
        "# Naive CPU\n",
        "# %lprun -f omp_naive run_omp(torch.as_tensor(X, device='cpu', dtype=torch.float), torch.as_tensor(y, device='cpu', dtype=torch.float), n_nonzero_coefs)\n",
        "# Naive GPU\n",
        "# %lprun -f omp_naive -f run_omp -f gpu_transfer_and_alg gpu_transfer_and_alg(X,y, \"naive\")\n",
        "\n",
        "\n",
        "# # V0 CPU\n",
        "# # %lprun -f omp_v0 run_omp(torch.as_tensor(X, device='cpu', dtype=torch.float), torch.as_tensor(y, device='cpu', dtype=torch.float), n_nonzero_coefs, alg=\"v0\")\n",
        "# # V0 GPU\n",
        "# %lprun -f omp_v0 -f run_omp -f gpu_transfer_and_alg gpu_transfer_and_alg(X,y, \"v0\")"
      ]
    },
    {
      "cell_type": "markdown",
      "metadata": {},
      "source": [
        "## Benchmark Results"
      ]
    },
    {
      "cell_type": "code",
      "execution_count": 2,
      "metadata": {},
      "outputs": [
        {
          "name": "stdout",
          "output_type": "stream",
          "text": [
            "\n",
            "==================================================\n",
            "Testing problem size m = 16 (1/10)\n",
            "==================================================\n",
            "Settings used for the test:\n",
            "Number of Samples: 50\n",
            "Number of Components: 100\n",
            "Number of Features: 10\n",
            "Number of Nonzero Coefficients: 17\n",
            "GPU algorithms enabled: False\n",
            "\n",
            "Running Sklearn OMP...\n",
            "Samples per second: 4179.75\n",
            "Running Naive CPU OMP...\n",
            "Samples per second: 6900.18\n",
            "Running V0 CPU OMP...\n",
            "Samples per second: 10956.09\n",
            "Skipping GPU algorithms (run_gpu=False)\n",
            "\n",
            "============================== DETAILED ANALYSIS ==============================\n",
            "V0 CPU nonzero pattern: (array([ 0,  0,  0,  0,  0,  1,  1,  1,  1,  1,  1,  2,  2,  2,  2,  2,  3,\n",
            "        3,  3,  3,  3,  3,  4,  4,  4,  4,  4,  5,  5,  5,  5,  5,  6,  6,\n",
            "        6,  6,  6,  7,  7,  7,  7,  7,  8,  8,  8,  8,  8,  9,  9,  9,  9,\n",
            "       10, 10, 10, 10, 10, 11, 11, 11, 11, 11, 12, 12, 12, 12, 13, 13, 13,\n",
            "       14, 14, 14, 14, 15, 15, 15, 15, 16, 16, 16, 16, 16, 17, 17, 17, 17,\n",
            "       18, 18, 18, 18, 18, 18, 19, 19, 19, 19, 19, 20, 20, 20, 20, 21, 21,\n",
            "       21, 21, 21, 22, 22, 22, 22, 22, 23, 23, 23, 23, 24, 24, 24, 24, 24,\n",
            "       25, 25, 25, 25, 26, 26, 26, 26, 26, 27, 27, 27, 27, 27, 28, 28, 28,\n",
            "       28, 29, 29, 29, 29, 30, 30, 30, 30, 30, 31, 31, 31, 31, 32, 32, 32,\n",
            "       32, 32, 33, 33, 33, 33, 33, 34, 34, 34, 34, 34, 35, 35, 35, 35, 35,\n",
            "       36, 36, 36, 36, 37, 37, 37, 38, 38, 38, 38, 39, 39, 39, 39, 39, 40,\n",
            "       40, 40, 40, 40, 41, 41, 41, 42, 42, 42, 42, 42, 43, 43, 43, 43, 43,\n",
            "       44, 44, 44, 44, 45, 45, 45, 45, 45, 46, 46, 46, 46, 47, 47, 47, 47,\n",
            "       48, 48, 48, 48, 49, 49, 49, 49]), array([35, 38, 75, 78, 98,  9, 14, 16, 23, 68, 81,  6, 19, 32, 63, 65, 17,\n",
            "       56, 64, 84, 86, 98,  0, 30, 32, 65, 77, 21, 55, 60, 71, 81, 13, 14,\n",
            "       34, 42, 88, 20, 23, 37, 79, 85, 39, 40, 49, 64, 69, 15, 24, 33, 99,\n",
            "       31, 51, 77, 80, 97,  1, 20, 24, 29, 54, 16, 27, 66, 94, 15, 55, 80,\n",
            "       28, 88, 90, 94, 14, 24, 63, 80,  5, 23, 38, 51, 73,  4, 18, 26, 51,\n",
            "       14, 22, 34, 55, 70, 83, 14, 41, 55, 67, 71, 12, 61, 79, 92, 13, 30,\n",
            "       64, 82, 95,  9, 21, 70, 83, 96,  7, 22, 34, 99,  2,  4, 19, 50, 68,\n",
            "       41, 60, 78, 80,  0, 23, 30, 48, 85, 12, 65, 71, 73, 85, 19, 38, 74,\n",
            "       81, 23, 32, 90, 91, 17, 36, 46, 52, 69, 17, 21, 50, 56, 11, 12, 54,\n",
            "       60, 61, 18, 45, 86, 94, 97,  9, 28, 90, 96, 98, 27, 47, 57, 64, 74,\n",
            "        0, 21, 88, 99,  0, 38, 48,  8, 15, 20, 51, 21, 41, 51, 68, 73,  7,\n",
            "       21, 49, 71, 99, 46, 51, 77,  2, 34, 37, 74, 82, 20, 34, 55, 92, 98,\n",
            "       46, 63, 85, 91,  8, 10, 30, 31, 95, 27, 43, 51, 67, 16, 17, 73, 76,\n",
            "        3, 20, 57, 95, 20, 33, 38, 94]))\n",
            "V0 CPU result shape: torch.Size([50, 100])\n",
            "Error between V0 and Naive CPU: 2.384186e-06\n",
            "Error between V0 CPU and Sklearn: 1.120988e-06\n",
            "Error between Naive CPU and Sklearn: 1.263198e-06\n",
            "Sklearn reconstruction error: 2.245337e+01\n",
            "V0 CPU reconstruction error: 2.245337e+01\n",
            "Naive CPU reconstruction error: 2.245337e+01\n",
            "================================================================================\n",
            "\n",
            "==================================================\n",
            "Testing problem size m = 20 (2/10)\n",
            "==================================================\n",
            "Settings used for the test:\n",
            "Number of Samples: 100\n",
            "Number of Components: 160\n",
            "Number of Features: 20\n",
            "Number of Nonzero Coefficients: 5\n",
            "GPU algorithms enabled: False\n",
            "\n",
            "Running Sklearn OMP...\n",
            "Samples per second: 2249.74\n",
            "Running Naive CPU OMP...\n",
            "Samples per second: 336.12\n",
            "Running V0 CPU OMP...\n",
            "Samples per second: 10275.26\n",
            "Skipping GPU algorithms (run_gpu=False)\n",
            "\n",
            "==================================================\n",
            "Testing problem size m = 24 (3/10)\n",
            "==================================================\n",
            "Settings used for the test:\n",
            "Number of Samples: 100\n",
            "Number of Components: 192\n",
            "Number of Features: 24\n",
            "Number of Nonzero Coefficients: 6\n",
            "GPU algorithms enabled: False\n",
            "\n",
            "Running Sklearn OMP...\n",
            "Samples per second: 1460.92\n",
            "Running Naive CPU OMP...\n",
            "Samples per second: 339.90\n",
            "Running V0 CPU OMP...\n",
            "Samples per second: 2474.28\n",
            "Skipping GPU algorithms (run_gpu=False)\n",
            "\n",
            "==================================================\n",
            "Testing problem size m = 32 (4/10)\n",
            "==================================================\n",
            "Settings used for the test:\n",
            "Number of Samples: 100\n",
            "Number of Components: 256\n",
            "Number of Features: 32\n",
            "Number of Nonzero Coefficients: 8\n",
            "GPU algorithms enabled: False\n",
            "\n",
            "Running Sklearn OMP...\n",
            "Samples per second: 2273.25\n",
            "Running Naive CPU OMP...\n",
            "Samples per second: 314.22\n",
            "Running V0 CPU OMP...\n",
            "Samples per second: 1272.36\n",
            "Skipping GPU algorithms (run_gpu=False)\n",
            "\n",
            "==================================================\n",
            "Testing problem size m = 64 (5/10)\n",
            "==================================================\n",
            "Settings used for the test:\n",
            "Number of Samples: 100\n",
            "Number of Components: 512\n",
            "Number of Features: 64\n",
            "Number of Nonzero Coefficients: 16\n",
            "GPU algorithms enabled: False\n",
            "\n",
            "Running Sklearn OMP...\n",
            "Samples per second: 833.95\n",
            "Running Naive CPU OMP...\n",
            "Samples per second: 152.73\n",
            "Running V0 CPU OMP...\n",
            "Samples per second: 1145.91\n",
            "Skipping GPU algorithms (run_gpu=False)\n",
            "\n",
            "==================================================\n",
            "Testing problem size m = 128 (6/10)\n",
            "==================================================\n",
            "Settings used for the test:\n",
            "Number of Samples: 100\n",
            "Number of Components: 1024\n",
            "Number of Features: 128\n",
            "Number of Nonzero Coefficients: 32\n",
            "GPU algorithms enabled: False\n",
            "\n",
            "Running Sklearn OMP...\n",
            "Samples per second: 405.18\n",
            "Running Naive CPU OMP...\n",
            "Samples per second: 95.61\n",
            "Running V0 CPU OMP...\n",
            "Samples per second: 1025.20\n",
            "Skipping GPU algorithms (run_gpu=False)\n",
            "\n",
            "==================================================\n",
            "Testing problem size m = 256 (7/10)\n",
            "==================================================\n",
            "Settings used for the test:\n",
            "Number of Samples: 100\n",
            "Number of Components: 2048\n",
            "Number of Features: 256\n",
            "Number of Nonzero Coefficients: 64\n",
            "GPU algorithms enabled: False\n",
            "\n",
            "Running Sklearn OMP...\n",
            "Samples per second: 152.71\n",
            "Running Naive CPU OMP...\n",
            "Samples per second: 23.23\n",
            "Running V0 CPU OMP...\n",
            "Samples per second: 387.80\n",
            "Skipping GPU algorithms (run_gpu=False)\n",
            "\n",
            "==================================================\n",
            "Testing problem size m = 512 (8/10)\n",
            "==================================================\n",
            "Settings used for the test:\n",
            "Number of Samples: 100\n",
            "Number of Components: 4096\n",
            "Number of Features: 512\n",
            "Number of Nonzero Coefficients: 128\n",
            "GPU algorithms enabled: False\n",
            "\n",
            "Running Sklearn OMP...\n",
            "Samples per second: 26.77\n",
            "Running Naive CPU OMP...\n",
            "Samples per second: 6.81\n",
            "Running V0 CPU OMP...\n",
            "Samples per second: 109.13\n",
            "Skipping GPU algorithms (run_gpu=False)\n",
            "\n",
            "==================================================\n",
            "Testing problem size m = 1024 (9/10)\n",
            "==================================================\n",
            "Settings used for the test:\n",
            "Number of Samples: 100\n",
            "Number of Components: 8192\n",
            "Number of Features: 1024\n",
            "Number of Nonzero Coefficients: 256\n",
            "GPU algorithms enabled: False\n",
            "\n",
            "Running Sklearn OMP...\n"
          ]
        },
        {
          "ename": "KeyboardInterrupt",
          "evalue": "",
          "output_type": "error",
          "traceback": [
            "\u001b[0;31m---------------------------------------------------------------------------\u001b[0m",
            "\u001b[0;31mKeyboardInterrupt\u001b[0m                         Traceback (most recent call last)",
            "Cell \u001b[0;32mIn[2], line 1\u001b[0m\n\u001b[0;32m----> 1\u001b[0m \u001b[43mrun_benchmarks\u001b[49m\u001b[43m(\u001b[49m\u001b[43m)\u001b[49m\n",
            "File \u001b[0;32m~/prog/orthogonal-matching-pursuit-parallel-gpu/src/main.py:197\u001b[0m, in \u001b[0;36mrun_benchmarks\u001b[0;34m(m_arr, n_samples, tol, k, detailed_comparison, comparison_params, random_state, run_gpu)\u001b[0m\n\u001b[1;32m    195\u001b[0m omp \u001b[38;5;241m=\u001b[39m OrthogonalMatchingPursuit(\u001b[38;5;241m*\u001b[39m\u001b[38;5;241m*\u001b[39momp_args)\n\u001b[1;32m    196\u001b[0m \u001b[38;5;28;01mwith\u001b[39;00m elapsed_timer() \u001b[38;5;28;01mas\u001b[39;00m elapsed:\n\u001b[0;32m--> 197\u001b[0m     \u001b[43momp\u001b[49m\u001b[38;5;241;43m.\u001b[39;49m\u001b[43mfit\u001b[49m\u001b[43m(\u001b[49m\u001b[43mX\u001b[49m\u001b[43m,\u001b[49m\u001b[43m \u001b[49m\u001b[43my\u001b[49m\u001b[38;5;241;43m.\u001b[39;49m\u001b[43mT\u001b[49m\u001b[43m)\u001b[49m\n\u001b[1;32m    198\u001b[0m sklearn_time \u001b[38;5;241m=\u001b[39m elapsed()\n\u001b[1;32m    199\u001b[0m execution_times[\u001b[38;5;124m\"\u001b[39m\u001b[38;5;124msklearn\u001b[39m\u001b[38;5;124m\"\u001b[39m]\u001b[38;5;241m.\u001b[39mappend(sklearn_time)\n",
            "File \u001b[0;32m~/prog/orthogonal-matching-pursuit-parallel-gpu/.venv-apr-2021/lib/python3.9/site-packages/sklearn/linear_model/_omp.py:673\u001b[0m, in \u001b[0;36mOrthogonalMatchingPursuit.fit\u001b[0;34m(self, X, y)\u001b[0m\n\u001b[1;32m    670\u001b[0m     \u001b[38;5;28mself\u001b[39m\u001b[38;5;241m.\u001b[39mn_nonzero_coefs_ \u001b[38;5;241m=\u001b[39m \u001b[38;5;28mself\u001b[39m\u001b[38;5;241m.\u001b[39mn_nonzero_coefs\n\u001b[1;32m    672\u001b[0m \u001b[38;5;28;01mif\u001b[39;00m Gram \u001b[38;5;129;01mis\u001b[39;00m \u001b[38;5;28;01mFalse\u001b[39;00m:\n\u001b[0;32m--> 673\u001b[0m     coef_, \u001b[38;5;28mself\u001b[39m\u001b[38;5;241m.\u001b[39mn_iter_ \u001b[38;5;241m=\u001b[39m \u001b[43morthogonal_mp\u001b[49m\u001b[43m(\u001b[49m\n\u001b[1;32m    674\u001b[0m \u001b[43m        \u001b[49m\u001b[43mX\u001b[49m\u001b[43m,\u001b[49m\u001b[43m \u001b[49m\u001b[43my\u001b[49m\u001b[43m,\u001b[49m\u001b[43m \u001b[49m\u001b[43mn_nonzero_coefs\u001b[49m\u001b[38;5;241;43m=\u001b[39;49m\u001b[38;5;28;43mself\u001b[39;49m\u001b[38;5;241;43m.\u001b[39;49m\u001b[43mn_nonzero_coefs_\u001b[49m\u001b[43m,\u001b[49m\u001b[43m \u001b[49m\u001b[43mtol\u001b[49m\u001b[38;5;241;43m=\u001b[39;49m\u001b[38;5;28;43mself\u001b[39;49m\u001b[38;5;241;43m.\u001b[39;49m\u001b[43mtol\u001b[49m\u001b[43m,\u001b[49m\n\u001b[1;32m    675\u001b[0m \u001b[43m        \u001b[49m\u001b[43mprecompute\u001b[49m\u001b[38;5;241;43m=\u001b[39;49m\u001b[38;5;28;43;01mFalse\u001b[39;49;00m\u001b[43m,\u001b[49m\u001b[43m \u001b[49m\u001b[43mcopy_X\u001b[49m\u001b[38;5;241;43m=\u001b[39;49m\u001b[38;5;28;43;01mTrue\u001b[39;49;00m\u001b[43m,\u001b[49m\n\u001b[1;32m    676\u001b[0m \u001b[43m        \u001b[49m\u001b[43mreturn_n_iter\u001b[49m\u001b[38;5;241;43m=\u001b[39;49m\u001b[38;5;28;43;01mTrue\u001b[39;49;00m\u001b[43m)\u001b[49m\n\u001b[1;32m    677\u001b[0m \u001b[38;5;28;01melse\u001b[39;00m:\n\u001b[1;32m    678\u001b[0m     norms_sq \u001b[38;5;241m=\u001b[39m np\u001b[38;5;241m.\u001b[39msum(y \u001b[38;5;241m*\u001b[39m\u001b[38;5;241m*\u001b[39m \u001b[38;5;241m2\u001b[39m, axis\u001b[38;5;241m=\u001b[39m\u001b[38;5;241m0\u001b[39m) \u001b[38;5;28;01mif\u001b[39;00m \u001b[38;5;28mself\u001b[39m\u001b[38;5;241m.\u001b[39mtol \u001b[38;5;129;01mis\u001b[39;00m \u001b[38;5;129;01mnot\u001b[39;00m \u001b[38;5;28;01mNone\u001b[39;00m \u001b[38;5;28;01melse\u001b[39;00m \u001b[38;5;28;01mNone\u001b[39;00m\n",
            "File \u001b[0;32m~/prog/orthogonal-matching-pursuit-parallel-gpu/.venv-apr-2021/lib/python3.9/site-packages/sklearn/utils/validation.py:63\u001b[0m, in \u001b[0;36m_deprecate_positional_args.<locals>._inner_deprecate_positional_args.<locals>.inner_f\u001b[0;34m(*args, **kwargs)\u001b[0m\n\u001b[1;32m     61\u001b[0m extra_args \u001b[38;5;241m=\u001b[39m \u001b[38;5;28mlen\u001b[39m(args) \u001b[38;5;241m-\u001b[39m \u001b[38;5;28mlen\u001b[39m(all_args)\n\u001b[1;32m     62\u001b[0m \u001b[38;5;28;01mif\u001b[39;00m extra_args \u001b[38;5;241m<\u001b[39m\u001b[38;5;241m=\u001b[39m \u001b[38;5;241m0\u001b[39m:\n\u001b[0;32m---> 63\u001b[0m     \u001b[38;5;28;01mreturn\u001b[39;00m \u001b[43mf\u001b[49m\u001b[43m(\u001b[49m\u001b[38;5;241;43m*\u001b[39;49m\u001b[43margs\u001b[49m\u001b[43m,\u001b[49m\u001b[43m \u001b[49m\u001b[38;5;241;43m*\u001b[39;49m\u001b[38;5;241;43m*\u001b[39;49m\u001b[43mkwargs\u001b[49m\u001b[43m)\u001b[49m\n\u001b[1;32m     65\u001b[0m \u001b[38;5;66;03m# extra_args > 0\u001b[39;00m\n\u001b[1;32m     66\u001b[0m args_msg \u001b[38;5;241m=\u001b[39m [\u001b[38;5;124m'\u001b[39m\u001b[38;5;132;01m{}\u001b[39;00m\u001b[38;5;124m=\u001b[39m\u001b[38;5;132;01m{}\u001b[39;00m\u001b[38;5;124m'\u001b[39m\u001b[38;5;241m.\u001b[39mformat(name, arg)\n\u001b[1;32m     67\u001b[0m             \u001b[38;5;28;01mfor\u001b[39;00m name, arg \u001b[38;5;129;01min\u001b[39;00m \u001b[38;5;28mzip\u001b[39m(kwonly_args[:extra_args],\n\u001b[1;32m     68\u001b[0m                                  args[\u001b[38;5;241m-\u001b[39mextra_args:])]\n",
            "File \u001b[0;32m~/prog/orthogonal-matching-pursuit-parallel-gpu/.venv-apr-2021/lib/python3.9/site-packages/sklearn/linear_model/_omp.py:389\u001b[0m, in \u001b[0;36morthogonal_mp\u001b[0;34m(X, y, n_nonzero_coefs, tol, precompute, copy_X, return_path, return_n_iter)\u001b[0m\n\u001b[1;32m    386\u001b[0m n_iters \u001b[38;5;241m=\u001b[39m []\n\u001b[1;32m    388\u001b[0m \u001b[38;5;28;01mfor\u001b[39;00m k \u001b[38;5;129;01min\u001b[39;00m \u001b[38;5;28mrange\u001b[39m(y\u001b[38;5;241m.\u001b[39mshape[\u001b[38;5;241m1\u001b[39m]):\n\u001b[0;32m--> 389\u001b[0m     out \u001b[38;5;241m=\u001b[39m \u001b[43m_cholesky_omp\u001b[49m\u001b[43m(\u001b[49m\n\u001b[1;32m    390\u001b[0m \u001b[43m        \u001b[49m\u001b[43mX\u001b[49m\u001b[43m,\u001b[49m\u001b[43m \u001b[49m\u001b[43my\u001b[49m\u001b[43m[\u001b[49m\u001b[43m:\u001b[49m\u001b[43m,\u001b[49m\u001b[43m \u001b[49m\u001b[43mk\u001b[49m\u001b[43m]\u001b[49m\u001b[43m,\u001b[49m\u001b[43m \u001b[49m\u001b[43mn_nonzero_coefs\u001b[49m\u001b[43m,\u001b[49m\u001b[43m \u001b[49m\u001b[43mtol\u001b[49m\u001b[43m,\u001b[49m\n\u001b[1;32m    391\u001b[0m \u001b[43m        \u001b[49m\u001b[43mcopy_X\u001b[49m\u001b[38;5;241;43m=\u001b[39;49m\u001b[43mcopy_X\u001b[49m\u001b[43m,\u001b[49m\u001b[43m \u001b[49m\u001b[43mreturn_path\u001b[49m\u001b[38;5;241;43m=\u001b[39;49m\u001b[43mreturn_path\u001b[49m\u001b[43m)\u001b[49m\n\u001b[1;32m    392\u001b[0m     \u001b[38;5;28;01mif\u001b[39;00m return_path:\n\u001b[1;32m    393\u001b[0m         _, idx, coefs, n_iter \u001b[38;5;241m=\u001b[39m out\n",
            "File \u001b[0;32m~/prog/orthogonal-matching-pursuit-parallel-gpu/.venv-apr-2021/lib/python3.9/site-packages/sklearn/linear_model/_omp.py:129\u001b[0m, in \u001b[0;36m_cholesky_omp\u001b[0;34m(X, y, n_nonzero_coefs, tol, copy_X, return_path)\u001b[0m\n\u001b[1;32m    127\u001b[0m \u001b[38;5;28;01mif\u001b[39;00m return_path:\n\u001b[1;32m    128\u001b[0m     coefs[:n_active, n_active \u001b[38;5;241m-\u001b[39m \u001b[38;5;241m1\u001b[39m] \u001b[38;5;241m=\u001b[39m gamma\n\u001b[0;32m--> 129\u001b[0m residual \u001b[38;5;241m=\u001b[39m y \u001b[38;5;241m-\u001b[39m \u001b[43mnp\u001b[49m\u001b[38;5;241;43m.\u001b[39;49m\u001b[43mdot\u001b[49m\u001b[43m(\u001b[49m\u001b[43mX\u001b[49m\u001b[43m[\u001b[49m\u001b[43m:\u001b[49m\u001b[43m,\u001b[49m\u001b[43m \u001b[49m\u001b[43m:\u001b[49m\u001b[43mn_active\u001b[49m\u001b[43m]\u001b[49m\u001b[43m,\u001b[49m\u001b[43m \u001b[49m\u001b[43mgamma\u001b[49m\u001b[43m)\u001b[49m\n\u001b[1;32m    130\u001b[0m \u001b[38;5;28;01mif\u001b[39;00m tol \u001b[38;5;129;01mis\u001b[39;00m \u001b[38;5;129;01mnot\u001b[39;00m \u001b[38;5;28;01mNone\u001b[39;00m \u001b[38;5;129;01mand\u001b[39;00m nrm2(residual) \u001b[38;5;241m*\u001b[39m\u001b[38;5;241m*\u001b[39m \u001b[38;5;241m2\u001b[39m \u001b[38;5;241m<\u001b[39m\u001b[38;5;241m=\u001b[39m tol:\n\u001b[1;32m    131\u001b[0m     \u001b[38;5;28;01mbreak\u001b[39;00m\n",
            "File \u001b[0;32m<__array_function__ internals>:5\u001b[0m, in \u001b[0;36mdot\u001b[0;34m(*args, **kwargs)\u001b[0m\n",
            "\u001b[0;31mKeyboardInterrupt\u001b[0m: "
          ]
        }
      ],
      "source": [
        "run_benchmarks()"
      ]
    },
    {
      "cell_type": "code",
      "execution_count": null,
      "metadata": {
        "colab": {
          "base_uri": "https://localhost:8080/",
          "height": 234
        },
        "id": "EZ_bFyYnpF4k",
        "outputId": "cc317d39-f6d5-4633-ba06-5e80948b2475"
      },
      "outputs": [],
      "source": [
        "\"\"\"Use this cell to get execution time as function of problem size\"\"\"\n",
        "\n",
        "execution_times = {}\n",
        "execution_times[\"sklearn\"] = []\n",
        "execution_times[\"naive_cpu\"] = []\n",
        "execution_times[\"v0_cpu\"] = []\n",
        "execution_times[\"naive_gpu\"] = []\n",
        "execution_times[\"v0_gpu\"] = []\n",
        "\n",
        "\n",
        "tol=0.1\n",
        "k=0\n",
        "\n",
        "# Big problems\n",
        "n_samples = 100\n",
        "m_arr = [16, 20, 24, 32, 64, 128, 256, 512, 1024, 2048]\n",
        "# m_arr = [2048]\n",
        "\n",
        "# Small problems\n",
        "# n_samples = 75000\n",
        "# m_arr = [8, 16, 24, 32, 64, 128]\n",
        "\n",
        "\n",
        "for m in m_arr:\n",
        "  n_components, n_features = m*8, m\n",
        "  n_nonzero_coefs = m//4\n",
        "\n",
        "  y, X, w = make_sparse_coded_signal(\n",
        "    n_samples=n_samples,\n",
        "    n_components=n_components,\n",
        "    n_features=n_features,\n",
        "    n_nonzero_coefs=n_nonzero_coefs,\n",
        "    random_state=2)\n",
        "\n",
        "  y = y.T\n",
        "\n",
        "  omp_args = dict(tol=tol, n_nonzero_coefs=n_nonzero_coefs-k, precompute=False, fit_intercept=True, normalize=True)\n",
        "  # Single core\n",
        "  print('Single core. Sklearn')\n",
        "  omp = OrthogonalMatchingPursuit(**omp_args)\n",
        "  with elapsed_timer() as elapsed:\n",
        "      omp.fit(X, y.T)\n",
        "  execution_times[\"sklearn\"].append(elapsed())\n",
        "\n",
        "  with elapsed_timer() as elapsed:\n",
        "    run_omp(torch.as_tensor(X, device='cpu', dtype=torch.float), torch.as_tensor(y, device='cpu', dtype=torch.float), n_nonzero_coefs)\n",
        "  execution_times[\"naive_cpu\"].append(elapsed())\n",
        "\n",
        "  with elapsed_timer() as elapsed:\n",
        "    run_omp(torch.as_tensor(X, device='cpu', dtype=torch.float), torch.as_tensor(y, device='cpu', dtype=torch.float), n_nonzero_coefs, alg=\"v0\")\n",
        "  execution_times[\"v0_cpu\"].append(elapsed())\n",
        "\n",
        "  with elapsed_timer() as elapsed:\n",
        "    gpu_transfer_and_alg(X,y, \"naive\")\n",
        "  execution_times[\"naive_gpu\"].append(elapsed())\n",
        "\n",
        "  with elapsed_timer() as elapsed:\n",
        "    gpu_transfer_and_alg(X,y, \"v0\")\n",
        "  execution_times[\"v0_gpu\"].append(elapsed())\n"
      ]
    },
    {
      "cell_type": "code",
      "execution_count": null,
      "metadata": {
        "id": "VmW1MJZggqOD"
      },
      "outputs": [],
      "source": [
        "execution_times"
      ]
    }
  ],
  "metadata": {
    "colab": {
      "collapsed_sections": [
        "UqpbP4TIt3h2"
      ],
      "provenance": []
    },
    "kernelspec": {
      "display_name": ".venv-apr-2021",
      "language": "python",
      "name": "python3"
    },
    "language_info": {
      "codemirror_mode": {
        "name": "ipython",
        "version": 3
      },
      "file_extension": ".py",
      "mimetype": "text/x-python",
      "name": "python",
      "nbconvert_exporter": "python",
      "pygments_lexer": "ipython3",
      "version": "3.9.23"
    }
  },
  "nbformat": 4,
  "nbformat_minor": 0
}
